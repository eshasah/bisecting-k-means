{
  "nbformat": 4,
  "nbformat_minor": 5,
  "metadata": {
    "kernelspec": {
      "display_name": "Python 3 (ipykernel)",
      "language": "python",
      "name": "python3"
    },
    "language_info": {
      "codemirror_mode": {
        "name": "ipython",
        "version": 3
      },
      "file_extension": ".py",
      "mimetype": "text/x-python",
      "name": "python",
      "nbconvert_exporter": "python",
      "pygments_lexer": "ipython3",
      "version": "3.10.0"
    },
    "colab": {
      "name": "Food poisoning.ipynb",
      "provenance": [],
      "include_colab_link": true
    }
  },
  "cells": [
    {
      "cell_type": "markdown",
      "metadata": {
        "id": "view-in-github",
        "colab_type": "text"
      },
      "source": [
        "<a href=\"https://colab.research.google.com/github/eshasah/bisecting-k-means/blob/main/Food_poisoning_final.ipynb\" target=\"_parent\"><img src=\"https://colab.research.google.com/assets/colab-badge.svg\" alt=\"Open In Colab\"/></a>"
      ]
    },
    {
      "cell_type": "code",
      "metadata": {
        "colab": {
          "base_uri": "https://localhost:8080/"
        },
        "id": "W3hVwdYHOgOu",
        "outputId": "8e677003-c873-4c59-d906-3bf7afc3c55f"
      },
      "source": [
        "from google.colab import drive\n",
        "drive.mount('/content/drive')"
      ],
      "id": "W3hVwdYHOgOu",
      "execution_count": 1,
      "outputs": [
        {
          "output_type": "stream",
          "name": "stdout",
          "text": [
            "Mounted at /content/drive\n"
          ]
        }
      ]
    },
    {
      "cell_type": "code",
      "metadata": {
        "id": "cdd23e44"
      },
      "source": [
        "import pandas as pd\n",
        "import numpy as np \n",
        "\n",
        "review_data = pd.read_csv(\"/content/drive/My Drive/cmpe255/yelp_review.csv\")"
      ],
      "id": "cdd23e44",
      "execution_count": 2,
      "outputs": []
    },
    {
      "cell_type": "code",
      "metadata": {
        "id": "4gYBsLhjPCry"
      },
      "source": [
        "busi_data = pd.read_csv(\"/content/drive/My Drive/cmpe255/yelp_business.csv\")"
      ],
      "id": "4gYBsLhjPCry",
      "execution_count": 3,
      "outputs": []
    },
    {
      "cell_type": "code",
      "metadata": {
        "colab": {
          "base_uri": "https://localhost:8080/",
          "height": 223
        },
        "id": "b398735d",
        "outputId": "01ae83d7-136a-40c9-c603-10d59e9ff4ba"
      },
      "source": [
        "review_data = review_data[['business_id', 'text', 'stars']]\n",
        "\n",
        "print(review_data.shape)\n",
        "review_data.head()"
      ],
      "id": "b398735d",
      "execution_count": 4,
      "outputs": [
        {
          "output_type": "stream",
          "name": "stdout",
          "text": [
            "(5261668, 3)\n"
          ]
        },
        {
          "output_type": "execute_result",
          "data": {
            "text/html": [
              "<div>\n",
              "<style scoped>\n",
              "    .dataframe tbody tr th:only-of-type {\n",
              "        vertical-align: middle;\n",
              "    }\n",
              "\n",
              "    .dataframe tbody tr th {\n",
              "        vertical-align: top;\n",
              "    }\n",
              "\n",
              "    .dataframe thead th {\n",
              "        text-align: right;\n",
              "    }\n",
              "</style>\n",
              "<table border=\"1\" class=\"dataframe\">\n",
              "  <thead>\n",
              "    <tr style=\"text-align: right;\">\n",
              "      <th></th>\n",
              "      <th>business_id</th>\n",
              "      <th>text</th>\n",
              "      <th>stars</th>\n",
              "    </tr>\n",
              "  </thead>\n",
              "  <tbody>\n",
              "    <tr>\n",
              "      <th>0</th>\n",
              "      <td>AEx2SYEUJmTxVVB18LlCwA</td>\n",
              "      <td>Super simple place but amazing nonetheless. It...</td>\n",
              "      <td>5</td>\n",
              "    </tr>\n",
              "    <tr>\n",
              "      <th>1</th>\n",
              "      <td>VR6GpWIda3SfvPC-lg9H3w</td>\n",
              "      <td>Small unassuming place that changes their menu...</td>\n",
              "      <td>5</td>\n",
              "    </tr>\n",
              "    <tr>\n",
              "      <th>2</th>\n",
              "      <td>CKC0-MOWMqoeWf6s-szl8g</td>\n",
              "      <td>Lester's is located in a beautiful neighborhoo...</td>\n",
              "      <td>5</td>\n",
              "    </tr>\n",
              "    <tr>\n",
              "      <th>3</th>\n",
              "      <td>ACFtxLv8pGrrxMm6EgjreA</td>\n",
              "      <td>Love coming here. Yes the place always needs t...</td>\n",
              "      <td>4</td>\n",
              "    </tr>\n",
              "    <tr>\n",
              "      <th>4</th>\n",
              "      <td>s2I_Ni76bjJNK9yG60iD-Q</td>\n",
              "      <td>Had their chocolate almond croissant and it wa...</td>\n",
              "      <td>4</td>\n",
              "    </tr>\n",
              "  </tbody>\n",
              "</table>\n",
              "</div>"
            ],
            "text/plain": [
              "              business_id  ... stars\n",
              "0  AEx2SYEUJmTxVVB18LlCwA  ...     5\n",
              "1  VR6GpWIda3SfvPC-lg9H3w  ...     5\n",
              "2  CKC0-MOWMqoeWf6s-szl8g  ...     5\n",
              "3  ACFtxLv8pGrrxMm6EgjreA  ...     4\n",
              "4  s2I_Ni76bjJNK9yG60iD-Q  ...     4\n",
              "\n",
              "[5 rows x 3 columns]"
            ]
          },
          "metadata": {},
          "execution_count": 4
        }
      ]
    },
    {
      "cell_type": "code",
      "metadata": {
        "colab": {
          "base_uri": "https://localhost:8080/",
          "height": 241
        },
        "id": "dFFearoaP8zW",
        "outputId": "028e31f6-6589-4fa6-eaad-fe0b29abf9b4"
      },
      "source": [
        "print(busi_data.shape)\n",
        "busi_data = busi_data[busi_data.categories.str.contains('restaurant|food', na=False)]\n",
        "\n",
        "print(busi_data.shape)\n",
        "busi_data = busi_data[['business_id', 'name']]\n",
        "busi_data.head()"
      ],
      "id": "dFFearoaP8zW",
      "execution_count": 5,
      "outputs": [
        {
          "output_type": "stream",
          "name": "stdout",
          "text": [
            "(174567, 13)\n",
            "(2313, 13)\n"
          ]
        },
        {
          "output_type": "execute_result",
          "data": {
            "text/html": [
              "<div>\n",
              "<style scoped>\n",
              "    .dataframe tbody tr th:only-of-type {\n",
              "        vertical-align: middle;\n",
              "    }\n",
              "\n",
              "    .dataframe tbody tr th {\n",
              "        vertical-align: top;\n",
              "    }\n",
              "\n",
              "    .dataframe thead th {\n",
              "        text-align: right;\n",
              "    }\n",
              "</style>\n",
              "<table border=\"1\" class=\"dataframe\">\n",
              "  <thead>\n",
              "    <tr style=\"text-align: right;\">\n",
              "      <th></th>\n",
              "      <th>business_id</th>\n",
              "      <th>name</th>\n",
              "    </tr>\n",
              "  </thead>\n",
              "  <tbody>\n",
              "    <tr>\n",
              "      <th>44</th>\n",
              "      <td>BnuzcebyB1AfxH0kjNWqSg</td>\n",
              "      <td>\"Carrabba's Italian Grill\"</td>\n",
              "    </tr>\n",
              "    <tr>\n",
              "      <th>101</th>\n",
              "      <td>VdlPZg2NAu8t8GkdbPLecg</td>\n",
              "      <td>\"Tandoori Times Indian Bistro\"</td>\n",
              "    </tr>\n",
              "    <tr>\n",
              "      <th>107</th>\n",
              "      <td>QkG3KUXwqZBW18A9k1xqCA</td>\n",
              "      <td>\"Red Lobster\"</td>\n",
              "    </tr>\n",
              "    <tr>\n",
              "      <th>163</th>\n",
              "      <td>xMP2oDrKFqyUrN0Uww85EQ</td>\n",
              "      <td>\"Dockside Seafood Market\"</td>\n",
              "    </tr>\n",
              "    <tr>\n",
              "      <th>274</th>\n",
              "      <td>dPxZI9lrKTl5dvFfnb1_Ig</td>\n",
              "      <td>\"Trattoria Italia\"</td>\n",
              "    </tr>\n",
              "  </tbody>\n",
              "</table>\n",
              "</div>"
            ],
            "text/plain": [
              "                business_id                            name\n",
              "44   BnuzcebyB1AfxH0kjNWqSg      \"Carrabba's Italian Grill\"\n",
              "101  VdlPZg2NAu8t8GkdbPLecg  \"Tandoori Times Indian Bistro\"\n",
              "107  QkG3KUXwqZBW18A9k1xqCA                   \"Red Lobster\"\n",
              "163  xMP2oDrKFqyUrN0Uww85EQ       \"Dockside Seafood Market\"\n",
              "274  dPxZI9lrKTl5dvFfnb1_Ig              \"Trattoria Italia\""
            ]
          },
          "metadata": {},
          "execution_count": 5
        }
      ]
    },
    {
      "cell_type": "code",
      "metadata": {
        "id": "Su7DRK6dP8jh"
      },
      "source": [
        "# data = data[data.business_id.str.contains()]"
      ],
      "id": "Su7DRK6dP8jh",
      "execution_count": null,
      "outputs": []
    },
    {
      "cell_type": "code",
      "metadata": {
        "colab": {
          "base_uri": "https://localhost:8080/",
          "height": 223
        },
        "id": "LIq-eUknRLgb",
        "outputId": "69b10583-2eb5-4085-c6a2-c7011c507318"
      },
      "source": [
        "review_data['business_id'] = review_data['business_id'].astype(str)\n",
        "busi_data['business_id'] = busi_data['business_id'].astype(str)\n",
        "\n",
        "data = review_data.merge(busi_data, on='business_id')\n",
        "print(data.shape)\n",
        "data.head()"
      ],
      "id": "LIq-eUknRLgb",
      "execution_count": 6,
      "outputs": [
        {
          "output_type": "stream",
          "name": "stdout",
          "text": [
            "(248709, 4)\n"
          ]
        },
        {
          "output_type": "execute_result",
          "data": {
            "text/html": [
              "<div>\n",
              "<style scoped>\n",
              "    .dataframe tbody tr th:only-of-type {\n",
              "        vertical-align: middle;\n",
              "    }\n",
              "\n",
              "    .dataframe tbody tr th {\n",
              "        vertical-align: top;\n",
              "    }\n",
              "\n",
              "    .dataframe thead th {\n",
              "        text-align: right;\n",
              "    }\n",
              "</style>\n",
              "<table border=\"1\" class=\"dataframe\">\n",
              "  <thead>\n",
              "    <tr style=\"text-align: right;\">\n",
              "      <th></th>\n",
              "      <th>business_id</th>\n",
              "      <th>text</th>\n",
              "      <th>stars</th>\n",
              "      <th>name</th>\n",
              "    </tr>\n",
              "  </thead>\n",
              "  <tbody>\n",
              "    <tr>\n",
              "      <th>0</th>\n",
              "      <td>RWGI8u00x5GghYCEzpYrIg</td>\n",
              "      <td>This place reminds of St Lawrence Market in To...</td>\n",
              "      <td>4</td>\n",
              "      <td>\"Marché Atwater\"</td>\n",
              "    </tr>\n",
              "    <tr>\n",
              "      <th>1</th>\n",
              "      <td>RWGI8u00x5GghYCEzpYrIg</td>\n",
              "      <td>A very quaint farmers market right by the wate...</td>\n",
              "      <td>4</td>\n",
              "      <td>\"Marché Atwater\"</td>\n",
              "    </tr>\n",
              "    <tr>\n",
              "      <th>2</th>\n",
              "      <td>RWGI8u00x5GghYCEzpYrIg</td>\n",
              "      <td>A must on any Montreal visit if nothing else b...</td>\n",
              "      <td>5</td>\n",
              "      <td>\"Marché Atwater\"</td>\n",
              "    </tr>\n",
              "    <tr>\n",
              "      <th>3</th>\n",
              "      <td>RWGI8u00x5GghYCEzpYrIg</td>\n",
              "      <td>Marche Atwater is a cute little market, they h...</td>\n",
              "      <td>4</td>\n",
              "      <td>\"Marché Atwater\"</td>\n",
              "    </tr>\n",
              "    <tr>\n",
              "      <th>4</th>\n",
              "      <td>RWGI8u00x5GghYCEzpYrIg</td>\n",
              "      <td>Le Coin Gourmand carries the best store bought...</td>\n",
              "      <td>4</td>\n",
              "      <td>\"Marché Atwater\"</td>\n",
              "    </tr>\n",
              "  </tbody>\n",
              "</table>\n",
              "</div>"
            ],
            "text/plain": [
              "              business_id  ...              name\n",
              "0  RWGI8u00x5GghYCEzpYrIg  ...  \"Marché Atwater\"\n",
              "1  RWGI8u00x5GghYCEzpYrIg  ...  \"Marché Atwater\"\n",
              "2  RWGI8u00x5GghYCEzpYrIg  ...  \"Marché Atwater\"\n",
              "3  RWGI8u00x5GghYCEzpYrIg  ...  \"Marché Atwater\"\n",
              "4  RWGI8u00x5GghYCEzpYrIg  ...  \"Marché Atwater\"\n",
              "\n",
              "[5 rows x 4 columns]"
            ]
          },
          "metadata": {},
          "execution_count": 6
        }
      ]
    },
    {
      "cell_type": "code",
      "metadata": {
        "colab": {
          "base_uri": "https://localhost:8080/"
        },
        "id": "-cRA4xj2RLRa",
        "outputId": "37cd220a-c1eb-49ed-dcc5-5a72f9901ce9"
      },
      "source": [
        "# counting null values in the dataset\n",
        "\n",
        "data.isnull().sum()"
      ],
      "id": "-cRA4xj2RLRa",
      "execution_count": 7,
      "outputs": [
        {
          "output_type": "execute_result",
          "data": {
            "text/plain": [
              "business_id    0\n",
              "text           0\n",
              "stars          0\n",
              "name           0\n",
              "dtype: int64"
            ]
          },
          "metadata": {},
          "execution_count": 7
        }
      ]
    },
    {
      "cell_type": "code",
      "metadata": {
        "colab": {
          "base_uri": "https://localhost:8080/",
          "height": 241
        },
        "id": "cIgpMNFfxdOw",
        "outputId": "1cb7f259-429c-489b-cad2-8f40a9065aa9"
      },
      "source": [
        "import nltk \n",
        "nltk.download('stopwords')\n",
        "from nltk.stem import WordNetLemmatizer\n",
        "from nltk.corpus import wordnet\n",
        "\n",
        "data['text'] = data['text'].astype(str)\n",
        "#print(data.head())\n",
        "data['text'] = data['text'].str.lower()\n",
        "#print(data.head())\n",
        "\n",
        "# stop word removal\n",
        "from nltk.corpus import stopwords\n",
        "stop = stopwords.words('english')\n",
        "\n",
        "data['text'] = data['text'].apply(lambda x: ' '.join([word for word in x.split() if word not in (stop)]))\n",
        "data.head()"
      ],
      "id": "cIgpMNFfxdOw",
      "execution_count": 8,
      "outputs": [
        {
          "output_type": "stream",
          "name": "stdout",
          "text": [
            "[nltk_data] Downloading package stopwords to /root/nltk_data...\n",
            "[nltk_data]   Unzipping corpora/stopwords.zip.\n"
          ]
        },
        {
          "output_type": "execute_result",
          "data": {
            "text/html": [
              "<div>\n",
              "<style scoped>\n",
              "    .dataframe tbody tr th:only-of-type {\n",
              "        vertical-align: middle;\n",
              "    }\n",
              "\n",
              "    .dataframe tbody tr th {\n",
              "        vertical-align: top;\n",
              "    }\n",
              "\n",
              "    .dataframe thead th {\n",
              "        text-align: right;\n",
              "    }\n",
              "</style>\n",
              "<table border=\"1\" class=\"dataframe\">\n",
              "  <thead>\n",
              "    <tr style=\"text-align: right;\">\n",
              "      <th></th>\n",
              "      <th>business_id</th>\n",
              "      <th>text</th>\n",
              "      <th>stars</th>\n",
              "      <th>name</th>\n",
              "    </tr>\n",
              "  </thead>\n",
              "  <tbody>\n",
              "    <tr>\n",
              "      <th>0</th>\n",
              "      <td>RWGI8u00x5GghYCEzpYrIg</td>\n",
              "      <td>place reminds st lawrence market toronto veggi...</td>\n",
              "      <td>4</td>\n",
              "      <td>\"Marché Atwater\"</td>\n",
              "    </tr>\n",
              "    <tr>\n",
              "      <th>1</th>\n",
              "      <td>RWGI8u00x5GghYCEzpYrIg</td>\n",
              "      <td>quaint farmers market right waterfront, makes ...</td>\n",
              "      <td>4</td>\n",
              "      <td>\"Marché Atwater\"</td>\n",
              "    </tr>\n",
              "    <tr>\n",
              "      <th>2</th>\n",
              "      <td>RWGI8u00x5GghYCEzpYrIg</td>\n",
              "      <td>must montreal visit nothing else gawk longingl...</td>\n",
              "      <td>5</td>\n",
              "      <td>\"Marché Atwater\"</td>\n",
              "    </tr>\n",
              "    <tr>\n",
              "      <th>3</th>\n",
              "      <td>RWGI8u00x5GghYCEzpYrIg</td>\n",
              "      <td>marche atwater cute little market, booths outs...</td>\n",
              "      <td>4</td>\n",
              "      <td>\"Marché Atwater\"</td>\n",
              "    </tr>\n",
              "    <tr>\n",
              "      <th>4</th>\n",
              "      <td>RWGI8u00x5GghYCEzpYrIg</td>\n",
              "      <td>le coin gourmand carries best store bought chi...</td>\n",
              "      <td>4</td>\n",
              "      <td>\"Marché Atwater\"</td>\n",
              "    </tr>\n",
              "  </tbody>\n",
              "</table>\n",
              "</div>"
            ],
            "text/plain": [
              "              business_id  ...              name\n",
              "0  RWGI8u00x5GghYCEzpYrIg  ...  \"Marché Atwater\"\n",
              "1  RWGI8u00x5GghYCEzpYrIg  ...  \"Marché Atwater\"\n",
              "2  RWGI8u00x5GghYCEzpYrIg  ...  \"Marché Atwater\"\n",
              "3  RWGI8u00x5GghYCEzpYrIg  ...  \"Marché Atwater\"\n",
              "4  RWGI8u00x5GghYCEzpYrIg  ...  \"Marché Atwater\"\n",
              "\n",
              "[5 rows x 4 columns]"
            ]
          },
          "metadata": {},
          "execution_count": 8
        }
      ]
    },
    {
      "cell_type": "code",
      "metadata": {
        "colab": {
          "base_uri": "https://localhost:8080/"
        },
        "id": "EJMgnUHj10tg",
        "outputId": "19b9e52d-6794-4ff0-e260-9832b15e3f20"
      },
      "source": [
        "import string\n",
        "import nltk\n",
        "nltk.download('wordnet')\n",
        "nltk.download('punkt')\n",
        "from nltk.stem import WordNetLemmatizer\n",
        "from nltk.corpus import wordnet, stopwords\n",
        "from nltk import pos_tag, word_tokenize\n",
        "nltk.download('averaged_perceptron_tagger')\n",
        "from nltk.tokenize import WhitespaceTokenizer\n",
        "import re\n",
        "\n",
        "def pos_tagger(nltk_tag):\n",
        "    if nltk_tag.startswith('J'):\n",
        "        return wordnet.ADJ\n",
        "    elif nltk_tag.startswith('V'):\n",
        "        return wordnet.VERB\n",
        "    elif nltk_tag.startswith('N'):\n",
        "        return wordnet.NOUN\n",
        "    elif nltk_tag.startswith('R'):\n",
        "        return wordnet.ADV\n",
        "    else:         \n",
        "        return None\n",
        "    \n",
        "    \n",
        "def lemmatize_text(text):\n",
        "    lemmatizer = WordNetLemmatizer()\n",
        "    # lemmatize text\n",
        "    pos_tagged = nltk.pos_tag(nltk.word_tokenize(text))\n",
        "\n",
        "    wordnet_tagged = list(map(lambda x: (x[0], pos_tagger(x[1])), pos_tagged))\n",
        "    # print(wordnet_tagged)\n",
        "\n",
        "    lemmatized_sentence = []\n",
        "    for word, tag in wordnet_tagged:\n",
        "        if tag is None:\n",
        "            # if there is no available tag, append the token as is\n",
        "            lemmatized_sentence.append(word)\n",
        "        else:       \n",
        "            # else use the tag to lemmatize the token\n",
        "            lemmatized_sentence.append(lemmatizer.lemmatize(word, tag))\n",
        "    text = \" \".join(lemmatized_sentence)\n",
        "    return(text)\n",
        "\n",
        "\n",
        "def remove_html_tags(text):\n",
        "    clean = re.compile('<.*?>')\n",
        "    return re.sub(clean, '', text)\n",
        "\n",
        "\n",
        "def clean_text(text):\n",
        "    # remove html tags\n",
        "    text = remove_html_tags(text)\n",
        "    # lower text\n",
        "    text = text.lower()\n",
        "    # unicode characters\n",
        "    text = text.encode('ascii', 'ignore').decode()\n",
        "    # remove digits\n",
        "    text = ''.join([i for i in text if not i.isdigit()])\n",
        "    # remove punctuation\n",
        "    text = text.translate(str.maketrans('', '', string.punctuation))\n",
        "    # remove stop words\n",
        "    stop_words = stopwords.words('english')\n",
        "    text = ' '.join([word for word in text.split(' ') if word not in stop_words])\n",
        "    return text"
      ],
      "id": "EJMgnUHj10tg",
      "execution_count": 9,
      "outputs": [
        {
          "output_type": "stream",
          "name": "stdout",
          "text": [
            "[nltk_data] Downloading package wordnet to /root/nltk_data...\n",
            "[nltk_data]   Unzipping corpora/wordnet.zip.\n",
            "[nltk_data] Downloading package punkt to /root/nltk_data...\n",
            "[nltk_data]   Unzipping tokenizers/punkt.zip.\n",
            "[nltk_data] Downloading package averaged_perceptron_tagger to\n",
            "[nltk_data]     /root/nltk_data...\n",
            "[nltk_data]   Unzipping taggers/averaged_perceptron_tagger.zip.\n"
          ]
        }
      ]
    },
    {
      "cell_type": "code",
      "metadata": {
        "colab": {
          "base_uri": "https://localhost:8080/",
          "height": 206
        },
        "id": "yi1Cr1yk10jL",
        "outputId": "2cf177ec-7411-46a4-8bd2-13bee2572d95"
      },
      "source": [
        "data['text'] = data.text.apply(clean_text)\n",
        "data.head()"
      ],
      "id": "yi1Cr1yk10jL",
      "execution_count": 10,
      "outputs": [
        {
          "output_type": "execute_result",
          "data": {
            "text/html": [
              "<div>\n",
              "<style scoped>\n",
              "    .dataframe tbody tr th:only-of-type {\n",
              "        vertical-align: middle;\n",
              "    }\n",
              "\n",
              "    .dataframe tbody tr th {\n",
              "        vertical-align: top;\n",
              "    }\n",
              "\n",
              "    .dataframe thead th {\n",
              "        text-align: right;\n",
              "    }\n",
              "</style>\n",
              "<table border=\"1\" class=\"dataframe\">\n",
              "  <thead>\n",
              "    <tr style=\"text-align: right;\">\n",
              "      <th></th>\n",
              "      <th>business_id</th>\n",
              "      <th>text</th>\n",
              "      <th>stars</th>\n",
              "      <th>name</th>\n",
              "    </tr>\n",
              "  </thead>\n",
              "  <tbody>\n",
              "    <tr>\n",
              "      <th>0</th>\n",
              "      <td>RWGI8u00x5GghYCEzpYrIg</td>\n",
              "      <td>place reminds st lawrence market toronto veggi...</td>\n",
              "      <td>4</td>\n",
              "      <td>\"Marché Atwater\"</td>\n",
              "    </tr>\n",
              "    <tr>\n",
              "      <th>1</th>\n",
              "      <td>RWGI8u00x5GghYCEzpYrIg</td>\n",
              "      <td>quaint farmers market right waterfront makes g...</td>\n",
              "      <td>4</td>\n",
              "      <td>\"Marché Atwater\"</td>\n",
              "    </tr>\n",
              "    <tr>\n",
              "      <th>2</th>\n",
              "      <td>RWGI8u00x5GghYCEzpYrIg</td>\n",
              "      <td>must montreal visit nothing else gawk longingl...</td>\n",
              "      <td>5</td>\n",
              "      <td>\"Marché Atwater\"</td>\n",
              "    </tr>\n",
              "    <tr>\n",
              "      <th>3</th>\n",
              "      <td>RWGI8u00x5GghYCEzpYrIg</td>\n",
              "      <td>marche atwater cute little market booths outsi...</td>\n",
              "      <td>4</td>\n",
              "      <td>\"Marché Atwater\"</td>\n",
              "    </tr>\n",
              "    <tr>\n",
              "      <th>4</th>\n",
              "      <td>RWGI8u00x5GghYCEzpYrIg</td>\n",
              "      <td>le coin gourmand carries best store bought chi...</td>\n",
              "      <td>4</td>\n",
              "      <td>\"Marché Atwater\"</td>\n",
              "    </tr>\n",
              "  </tbody>\n",
              "</table>\n",
              "</div>"
            ],
            "text/plain": [
              "              business_id  ...              name\n",
              "0  RWGI8u00x5GghYCEzpYrIg  ...  \"Marché Atwater\"\n",
              "1  RWGI8u00x5GghYCEzpYrIg  ...  \"Marché Atwater\"\n",
              "2  RWGI8u00x5GghYCEzpYrIg  ...  \"Marché Atwater\"\n",
              "3  RWGI8u00x5GghYCEzpYrIg  ...  \"Marché Atwater\"\n",
              "4  RWGI8u00x5GghYCEzpYrIg  ...  \"Marché Atwater\"\n",
              "\n",
              "[5 rows x 4 columns]"
            ]
          },
          "metadata": {},
          "execution_count": 10
        }
      ]
    },
    {
      "cell_type": "code",
      "metadata": {
        "id": "7wZe1JRCxc0S"
      },
      "source": [
        "words = [\"discomfort\",\"ache\",\"death\",\"allergy\",\"diarrhoea\", \"stomach\", \"loosemotion\", \"sick\", \"vomit\", \"nausea\", \"throw up\", \"threw up\", \"unhygienic\", \"pain\", \"flu\", \"stale\", \"poision\"]\n",
        "\n",
        "for w in words:\n",
        "  w = lemmatize_text(w);"
      ],
      "id": "7wZe1JRCxc0S",
      "execution_count": 11,
      "outputs": []
    },
    {
      "cell_type": "code",
      "metadata": {
        "colab": {
          "base_uri": "https://localhost:8080/"
        },
        "id": "2zKkC9t19Mvo",
        "outputId": "e8753909-7753-4518-ad00-b9c281bec249"
      },
      "source": [
        "print(words)"
      ],
      "id": "2zKkC9t19Mvo",
      "execution_count": 12,
      "outputs": [
        {
          "output_type": "stream",
          "name": "stdout",
          "text": [
            "['discomfort', 'ache', 'death', 'allergy', 'diarrhoea', 'stomach', 'loosemotion', 'sick', 'vomit', 'nausea', 'throw up', 'threw up', 'unhygienic', 'pain', 'flu', 'stale', 'poision']\n"
          ]
        }
      ]
    },
    {
      "cell_type": "code",
      "metadata": {
        "colab": {
          "base_uri": "https://localhost:8080/",
          "height": 206
        },
        "id": "XoKdaIPzx9Xu",
        "outputId": "4ee543b8-5ea0-4fb4-94db-90df23832b22"
      },
      "source": [
        "# creating a new feature for food poisoning based on words seen in review text\n",
        "for index,row in data.iterrows() :\n",
        "    if any(word in row['text'] for word in words) and row['stars'] < 3:\n",
        "        data.loc[index,'FP'] = 1\n",
        "    else:\n",
        "        data.loc[index,'FP'] = 0\n",
        "\n",
        "X = data[['text','stars']]   #convert text to some word2vec or onehotencoding\n",
        "Y = data['FP']\n",
        "\n",
        "data.head()"
      ],
      "id": "XoKdaIPzx9Xu",
      "execution_count": 13,
      "outputs": [
        {
          "output_type": "execute_result",
          "data": {
            "text/html": [
              "<div>\n",
              "<style scoped>\n",
              "    .dataframe tbody tr th:only-of-type {\n",
              "        vertical-align: middle;\n",
              "    }\n",
              "\n",
              "    .dataframe tbody tr th {\n",
              "        vertical-align: top;\n",
              "    }\n",
              "\n",
              "    .dataframe thead th {\n",
              "        text-align: right;\n",
              "    }\n",
              "</style>\n",
              "<table border=\"1\" class=\"dataframe\">\n",
              "  <thead>\n",
              "    <tr style=\"text-align: right;\">\n",
              "      <th></th>\n",
              "      <th>business_id</th>\n",
              "      <th>text</th>\n",
              "      <th>stars</th>\n",
              "      <th>name</th>\n",
              "      <th>FP</th>\n",
              "    </tr>\n",
              "  </thead>\n",
              "  <tbody>\n",
              "    <tr>\n",
              "      <th>0</th>\n",
              "      <td>RWGI8u00x5GghYCEzpYrIg</td>\n",
              "      <td>place reminds st lawrence market toronto veggi...</td>\n",
              "      <td>4</td>\n",
              "      <td>\"Marché Atwater\"</td>\n",
              "      <td>0.0</td>\n",
              "    </tr>\n",
              "    <tr>\n",
              "      <th>1</th>\n",
              "      <td>RWGI8u00x5GghYCEzpYrIg</td>\n",
              "      <td>quaint farmers market right waterfront makes g...</td>\n",
              "      <td>4</td>\n",
              "      <td>\"Marché Atwater\"</td>\n",
              "      <td>0.0</td>\n",
              "    </tr>\n",
              "    <tr>\n",
              "      <th>2</th>\n",
              "      <td>RWGI8u00x5GghYCEzpYrIg</td>\n",
              "      <td>must montreal visit nothing else gawk longingl...</td>\n",
              "      <td>5</td>\n",
              "      <td>\"Marché Atwater\"</td>\n",
              "      <td>0.0</td>\n",
              "    </tr>\n",
              "    <tr>\n",
              "      <th>3</th>\n",
              "      <td>RWGI8u00x5GghYCEzpYrIg</td>\n",
              "      <td>marche atwater cute little market booths outsi...</td>\n",
              "      <td>4</td>\n",
              "      <td>\"Marché Atwater\"</td>\n",
              "      <td>0.0</td>\n",
              "    </tr>\n",
              "    <tr>\n",
              "      <th>4</th>\n",
              "      <td>RWGI8u00x5GghYCEzpYrIg</td>\n",
              "      <td>le coin gourmand carries best store bought chi...</td>\n",
              "      <td>4</td>\n",
              "      <td>\"Marché Atwater\"</td>\n",
              "      <td>0.0</td>\n",
              "    </tr>\n",
              "  </tbody>\n",
              "</table>\n",
              "</div>"
            ],
            "text/plain": [
              "              business_id  ...   FP\n",
              "0  RWGI8u00x5GghYCEzpYrIg  ...  0.0\n",
              "1  RWGI8u00x5GghYCEzpYrIg  ...  0.0\n",
              "2  RWGI8u00x5GghYCEzpYrIg  ...  0.0\n",
              "3  RWGI8u00x5GghYCEzpYrIg  ...  0.0\n",
              "4  RWGI8u00x5GghYCEzpYrIg  ...  0.0\n",
              "\n",
              "[5 rows x 5 columns]"
            ]
          },
          "metadata": {},
          "execution_count": 13
        }
      ]
    },
    {
      "cell_type": "code",
      "metadata": {
        "colab": {
          "base_uri": "https://localhost:8080/",
          "height": 223
        },
        "id": "JvzmyCRex9UT",
        "outputId": "8ad665c1-c4f6-4e93-e9a7-e90343983b99"
      },
      "source": [
        "fp_data = data[data['FP'] == 1.0] \n",
        "print(fp_data.shape)\n",
        "fp_data.head()"
      ],
      "id": "JvzmyCRex9UT",
      "execution_count": 14,
      "outputs": [
        {
          "output_type": "stream",
          "name": "stdout",
          "text": [
            "(4124, 5)\n"
          ]
        },
        {
          "output_type": "execute_result",
          "data": {
            "text/html": [
              "<div>\n",
              "<style scoped>\n",
              "    .dataframe tbody tr th:only-of-type {\n",
              "        vertical-align: middle;\n",
              "    }\n",
              "\n",
              "    .dataframe tbody tr th {\n",
              "        vertical-align: top;\n",
              "    }\n",
              "\n",
              "    .dataframe thead th {\n",
              "        text-align: right;\n",
              "    }\n",
              "</style>\n",
              "<table border=\"1\" class=\"dataframe\">\n",
              "  <thead>\n",
              "    <tr style=\"text-align: right;\">\n",
              "      <th></th>\n",
              "      <th>business_id</th>\n",
              "      <th>text</th>\n",
              "      <th>stars</th>\n",
              "      <th>name</th>\n",
              "      <th>FP</th>\n",
              "    </tr>\n",
              "  </thead>\n",
              "  <tbody>\n",
              "    <tr>\n",
              "      <th>191</th>\n",
              "      <td>IBZ6e3P0OqcPXVjvGlpueQ</td>\n",
              "      <td>cautionary tale potential diners well restaura...</td>\n",
              "      <td>1</td>\n",
              "      <td>\"Off The Hook Gourmet\"</td>\n",
              "      <td>1.0</td>\n",
              "    </tr>\n",
              "    <tr>\n",
              "      <th>338</th>\n",
              "      <td>ym5FOqL6tGbgynzwKMHZuw</td>\n",
              "      <td>original bad review removed lack specificity o...</td>\n",
              "      <td>1</td>\n",
              "      <td>\"Crab Corner\"</td>\n",
              "      <td>1.0</td>\n",
              "    </tr>\n",
              "    <tr>\n",
              "      <th>348</th>\n",
              "      <td>ym5FOqL6tGbgynzwKMHZuw</td>\n",
              "      <td>roaches store roach came food told manager imm...</td>\n",
              "      <td>1</td>\n",
              "      <td>\"Crab Corner\"</td>\n",
              "      <td>1.0</td>\n",
              "    </tr>\n",
              "    <tr>\n",
              "      <th>359</th>\n",
              "      <td>ym5FOqL6tGbgynzwKMHZuw</td>\n",
              "      <td>love eating snow crab king crab dungeness crab...</td>\n",
              "      <td>2</td>\n",
              "      <td>\"Crab Corner\"</td>\n",
              "      <td>1.0</td>\n",
              "    </tr>\n",
              "    <tr>\n",
              "      <th>387</th>\n",
              "      <td>ym5FOqL6tGbgynzwKMHZuw</td>\n",
              "      <td>days since visit going let bad experience go ...</td>\n",
              "      <td>1</td>\n",
              "      <td>\"Crab Corner\"</td>\n",
              "      <td>1.0</td>\n",
              "    </tr>\n",
              "  </tbody>\n",
              "</table>\n",
              "</div>"
            ],
            "text/plain": [
              "                business_id  ...   FP\n",
              "191  IBZ6e3P0OqcPXVjvGlpueQ  ...  1.0\n",
              "338  ym5FOqL6tGbgynzwKMHZuw  ...  1.0\n",
              "348  ym5FOqL6tGbgynzwKMHZuw  ...  1.0\n",
              "359  ym5FOqL6tGbgynzwKMHZuw  ...  1.0\n",
              "387  ym5FOqL6tGbgynzwKMHZuw  ...  1.0\n",
              "\n",
              "[5 rows x 5 columns]"
            ]
          },
          "metadata": {},
          "execution_count": 14
        }
      ]
    },
    {
      "cell_type": "code",
      "metadata": {
        "id": "H6QqiEIGx9O4"
      },
      "source": [
        "from sklearn.model_selection import train_test_split\n",
        "\n",
        "# split the data into train and test set\n",
        "train, test = train_test_split(data, test_size=0.2, random_state=42, shuffle=True)"
      ],
      "id": "H6QqiEIGx9O4",
      "execution_count": 15,
      "outputs": []
    },
    {
      "cell_type": "code",
      "metadata": {
        "colab": {
          "base_uri": "https://localhost:8080/",
          "height": 241
        },
        "id": "8pBn60lWx9HV",
        "outputId": "5f541359-8aee-4d15-ca27-b2a0b3b1c87e"
      },
      "source": [
        "print(train.shape)\n",
        "print(test.shape)\n",
        "\n",
        "train.head()\n",
        "test.head()"
      ],
      "id": "8pBn60lWx9HV",
      "execution_count": 16,
      "outputs": [
        {
          "output_type": "stream",
          "name": "stdout",
          "text": [
            "(198967, 5)\n",
            "(49742, 5)\n"
          ]
        },
        {
          "output_type": "execute_result",
          "data": {
            "text/html": [
              "<div>\n",
              "<style scoped>\n",
              "    .dataframe tbody tr th:only-of-type {\n",
              "        vertical-align: middle;\n",
              "    }\n",
              "\n",
              "    .dataframe tbody tr th {\n",
              "        vertical-align: top;\n",
              "    }\n",
              "\n",
              "    .dataframe thead th {\n",
              "        text-align: right;\n",
              "    }\n",
              "</style>\n",
              "<table border=\"1\" class=\"dataframe\">\n",
              "  <thead>\n",
              "    <tr style=\"text-align: right;\">\n",
              "      <th></th>\n",
              "      <th>business_id</th>\n",
              "      <th>text</th>\n",
              "      <th>stars</th>\n",
              "      <th>name</th>\n",
              "      <th>FP</th>\n",
              "    </tr>\n",
              "  </thead>\n",
              "  <tbody>\n",
              "    <tr>\n",
              "      <th>133803</th>\n",
              "      <td>R_ZlcX46pPdjhjmfd043LA</td>\n",
              "      <td>made reservations pm knowing show get around p...</td>\n",
              "      <td>1</td>\n",
              "      <td>\"Top of the World\"</td>\n",
              "      <td>0.0</td>\n",
              "    </tr>\n",
              "    <tr>\n",
              "      <th>14053</th>\n",
              "      <td>ibkwcLZwaJ1pnPJVaI_-uA</td>\n",
              "      <td>swadee bomb im thai food lover ive hopped arou...</td>\n",
              "      <td>4</td>\n",
              "      <td>\"Swaddee Thai Cuisine\"</td>\n",
              "      <td>0.0</td>\n",
              "    </tr>\n",
              "    <tr>\n",
              "      <th>66869</th>\n",
              "      <td>rvnTFEq7R2ZHg0_CYbBNFw</td>\n",
              "      <td>cant believe ive going vegas  years went place...</td>\n",
              "      <td>5</td>\n",
              "      <td>\"Village Seafood Buffet\"</td>\n",
              "      <td>0.0</td>\n",
              "    </tr>\n",
              "    <tr>\n",
              "      <th>101377</th>\n",
              "      <td>vOMDU31gdylrzBhAKC9QbA</td>\n",
              "      <td>came friend super super picky sushi  shout mel...</td>\n",
              "      <td>5</td>\n",
              "      <td>\"Sushi Hiroyoshi Japanese Cuisine\"</td>\n",
              "      <td>0.0</td>\n",
              "    </tr>\n",
              "    <tr>\n",
              "      <th>86041</th>\n",
              "      <td>RZFryvOkznd4jtpj8PbSzg</td>\n",
              "      <td>living southern california ive pretty good sus...</td>\n",
              "      <td>5</td>\n",
              "      <td>\"Sushi Style\"</td>\n",
              "      <td>0.0</td>\n",
              "    </tr>\n",
              "  </tbody>\n",
              "</table>\n",
              "</div>"
            ],
            "text/plain": [
              "                   business_id  ...   FP\n",
              "133803  R_ZlcX46pPdjhjmfd043LA  ...  0.0\n",
              "14053   ibkwcLZwaJ1pnPJVaI_-uA  ...  0.0\n",
              "66869   rvnTFEq7R2ZHg0_CYbBNFw  ...  0.0\n",
              "101377  vOMDU31gdylrzBhAKC9QbA  ...  0.0\n",
              "86041   RZFryvOkznd4jtpj8PbSzg  ...  0.0\n",
              "\n",
              "[5 rows x 5 columns]"
            ]
          },
          "metadata": {},
          "execution_count": 16
        }
      ]
    },
    {
      "cell_type": "code",
      "metadata": {
        "id": "a90bc611"
      },
      "source": [
        "# just for our reference\n",
        "from fastai.imports import *\n",
        "data_dir = \"/content/drive/My Drive/cmpe255/train-test-data\"\n",
        "# determine the path where to save the train and test file\n",
        "test_r_path = Path(data_dir, 'test_review.csv')\n",
        "test_fp_path = Path(data_dir, 'test_expected.csv')\n",
        "\n",
        "# save the train and test file\n",
        "# again using the '\\t' separator to create tab-separated-values files\n",
        "test.to_csv(test_r_path, columns=['text'],  index=False)\n",
        "test.to_csv(test_fp_path, columns=['FP'],  index=False)"
      ],
      "id": "a90bc611",
      "execution_count": 17,
      "outputs": []
    },
    {
      "cell_type": "code",
      "metadata": {
        "id": "QaogBCV5CScv"
      },
      "source": [
        "# vectorize before passing to knn classifier\n",
        "from sklearn.feature_extraction.text import TfidfVectorizer\n",
        "vectorizer = TfidfVectorizer(stop_words='english', ngram_range=(1, 1), min_df=0.001)\n",
        "train_features = vectorizer.fit_transform(train[\"text\"])\n",
        "test_features = vectorizer.transform(test[\"text\"])"
      ],
      "id": "QaogBCV5CScv",
      "execution_count": 18,
      "outputs": []
    },
    {
      "cell_type": "code",
      "metadata": {
        "id": "X2yUID94CSW1"
      },
      "source": [
        "train_labels = train[\"FP\"]"
      ],
      "id": "X2yUID94CSW1",
      "execution_count": 19,
      "outputs": []
    },
    {
      "cell_type": "code",
      "metadata": {
        "colab": {
          "base_uri": "https://localhost:8080/"
        },
        "id": "DIg0qmgfCSQA",
        "outputId": "4929d4ea-a5c3-4014-ff6b-8165810e4ab4"
      },
      "source": [
        "# knn classifier\n",
        "from sklearn.neighbors import KNeighborsClassifier\n",
        "classifier = KNeighborsClassifier(n_neighbors=150, algorithm='auto')\n",
        "classifier.fit(train_features, train_labels)"
      ],
      "id": "DIg0qmgfCSQA",
      "execution_count": 20,
      "outputs": [
        {
          "output_type": "execute_result",
          "data": {
            "text/plain": [
              "KNeighborsClassifier(n_neighbors=150)"
            ]
          },
          "metadata": {},
          "execution_count": 20
        }
      ]
    },
    {
      "cell_type": "code",
      "metadata": {
        "colab": {
          "base_uri": "https://localhost:8080/"
        },
        "id": "ms5x7K00CSHf",
        "outputId": "f79283c2-a8dc-48b6-f384-061f01bb20f8"
      },
      "source": [
        "predicted_labels = classifier.predict(test_features)\n",
        "print(\"knn classification done.\")"
      ],
      "id": "ms5x7K00CSHf",
      "execution_count": 21,
      "outputs": [
        {
          "output_type": "stream",
          "name": "stdout",
          "text": [
            "knn classification done.\n"
          ]
        }
      ]
    },
    {
      "cell_type": "code",
      "metadata": {
        "colab": {
          "base_uri": "https://localhost:8080/"
        },
        "id": "zndXKDVmJEkK",
        "outputId": "c0cce54a-ac86-4459-e9d2-407f411143cc"
      },
      "source": [
        "with open(data_dir + '/output_labels.csv', 'w') as f:\n",
        "    for item in predicted_labels:\n",
        "        if item > 0:\n",
        "            f.write('+1\\n')\n",
        "        elif item == 0:\n",
        "            review_option = [\"+1\", \"-1\"]\n",
        "            random_choice = random.choice(review_option)\n",
        "            f.write(random_choice + '\\n')\n",
        "        else:\n",
        "            f.write('-1\\n')\n",
        "        f.close\n",
        "print(\"end\")"
      ],
      "id": "zndXKDVmJEkK",
      "execution_count": 22,
      "outputs": [
        {
          "output_type": "stream",
          "name": "stdout",
          "text": [
            "end\n"
          ]
        }
      ]
    },
    {
      "cell_type": "code",
      "metadata": {
        "id": "0ff3ca4a"
      },
      "source": [
        "def find_accuracy(predicted_labels, actual_labels):\n",
        "    accuracy = 0\n",
        "    wrong_fp = 0\n",
        "    wrong_nfp = 0\n",
        "\n",
        "    i = 0\n",
        "    l = len(actual_labels)\n",
        "    while i < l:\n",
        "        if actual_labels[i] == predicted_labels[i]:\n",
        "            accuracy += 1\n",
        "        elif actual_labels[i] == 1.0:\n",
        "            wrong_fp += 1\n",
        "        else:\n",
        "            wrong_nfp += 1\n",
        "        i += 1\n",
        "\n",
        "    print(\"Accurately Identified:\", accuracy, \"Percentage:\", accuracy * 100 / l)\n",
        "    print(\"Wrongly Identified as Food Poisoning review:\", wrong_fp, \"Percentage:\", wrong_fp * 100 / l)\n",
        "    print(\"Wrongly Identified as Non-food poisoning review:\", wrong_nfp, \"Percentage:\", wrong_nfp * 100 / l)"
      ],
      "id": "0ff3ca4a",
      "execution_count": 31,
      "outputs": []
    },
    {
      "cell_type": "code",
      "metadata": {
        "colab": {
          "base_uri": "https://localhost:8080/"
        },
        "id": "e4446f74",
        "outputId": "4fb9c9c3-83d7-4e91-dc9c-c6257ab2d2e3"
      },
      "source": [
        "test_labels = test[\"FP\"].to_numpy()\n",
        "\n",
        "print(test_labels)"
      ],
      "id": "e4446f74",
      "execution_count": 24,
      "outputs": [
        {
          "output_type": "stream",
          "name": "stdout",
          "text": [
            "[0. 0. 0. ... 0. 0. 0.]\n"
          ]
        }
      ]
    },
    {
      "cell_type": "code",
      "metadata": {
        "colab": {
          "base_uri": "https://localhost:8080/"
        },
        "id": "1eda306a",
        "outputId": "e51c684f-af84-4310-8349-86c60990a0cc"
      },
      "source": [
        "print(predicted_labels)\n"
      ],
      "id": "1eda306a",
      "execution_count": 25,
      "outputs": [
        {
          "output_type": "stream",
          "name": "stdout",
          "text": [
            "[0. 0. 0. ... 0. 0. 0.]\n"
          ]
        }
      ]
    },
    {
      "cell_type": "code",
      "metadata": {
        "colab": {
          "base_uri": "https://localhost:8080/"
        },
        "id": "c4860bec",
        "outputId": "4ecb1342-631c-4cee-c3d3-1516c3a35ec5"
      },
      "source": [
        "# finding Accuracy\n",
        "find_accuracy(predicted_labels, test_labels)"
      ],
      "id": "c4860bec",
      "execution_count": 32,
      "outputs": [
        {
          "output_type": "stream",
          "name": "stdout",
          "text": [
            "Accurately Identified: 48970 Percentage: 98.44799163684613\n",
            "Wrongly Identified as Food Poisoning review: 771 Percentage: 1.5499979896264726\n",
            "Wrongly Identified as Non-food poisoning review: 1 Percentage: 0.002010373527401391\n"
          ]
        }
      ]
    }
  ]
}